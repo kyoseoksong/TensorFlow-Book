{
 "cells": [
  {
   "cell_type": "code",
   "execution_count": 1,
   "metadata": {},
   "outputs": [],
   "source": [
    "def get_bmu_loc(self, x):\n",
    "    expanded_x = tf.expand_dims(x, 0)\n",
    "    sqr_diff = tf.square(tf.subtract(expanded_x, self.nodes))\n",
    "    dists = tf.reduce_sum(sqr_diff, 1)\n",
    "    bmu_idx = tf.argmin(dists, 0)\n",
    "    bmu_loc = tf.stack([tf.mod(bmu_idx, self.width), tf.div(bmu_idx,self.width)])\n",
    "    return bmu_loc"
   ]
  },
  {
   "cell_type": "code",
   "execution_count": null,
   "metadata": {},
   "outputs": [],
   "source": []
  }
 ],
 "metadata": {
  "kernelspec": {
   "display_name": "Python 3",
   "language": "python",
   "name": "python3"
  },
  "language_info": {
   "codemirror_mode": {
    "name": "ipython",
    "version": 3
   },
   "file_extension": ".py",
   "mimetype": "text/x-python",
   "name": "python",
   "nbconvert_exporter": "python",
   "pygments_lexer": "ipython3",
   "version": "3.5.2"
  }
 },
 "nbformat": 4,
 "nbformat_minor": 2
}
