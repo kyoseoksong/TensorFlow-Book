{
 "cells": [
  {
   "cell_type": "code",
   "execution_count": 1,
   "metadata": {},
   "outputs": [],
   "source": [
    "import tensorflow as tf\n",
    "import numpy as np"
   ]
  },
  {
   "cell_type": "code",
   "execution_count": 2,
   "metadata": {},
   "outputs": [],
   "source": [
    "class SOM:\n",
    "    def __init__(self, width, height, dim):\n",
    "        self.num_iters = 100\n",
    "        self.width = width\n",
    "        self.height = height\n",
    "        self.dim = dim\n",
    "        self.node_locs = self.get_locs()\n",
    "        \n",
    "        nodes = tf.Variable(tf.random_normal([width*height, dim])) # 각각의 노드는 차원 dim의 벡터입니다. 2D 격자에는 width x height 만큼의 노드가 존재합니다. get_locs 는 코드 5.10에서 정의됩니다\n",
    "        self.nodes = nodes\n",
    "        \n",
    "        x = tf.placeholder(tf.float32, [dim]) # 이 2개의 연산은 반복시마다 입력으로 이용됩니다\n",
    "        iter = tf.placeholder(tf.float32)\n",
    "        \n",
    "        self.x = x # 다른 메소드로부터 접근하게 됩니다\n",
    "        self.iter = iter\n",
    "        \n",
    "        bmu_loc = self.get_bmu_loc(x) # 코드 5.9에서 입력에 가장 근접하는 노드를 찾게 됩니다\n",
    "        self.propagate_nodes = self.get_propagation(bmu_loc, x, iter) # 코드 5.8에서 이웃의 값을 업데이트합니다"
   ]
  },
  {
   "cell_type": "code",
   "execution_count": null,
   "metadata": {},
   "outputs": [],
   "source": []
  }
 ],
 "metadata": {
  "kernelspec": {
   "display_name": "Python 3",
   "language": "python",
   "name": "python3"
  },
  "language_info": {
   "codemirror_mode": {
    "name": "ipython",
    "version": 3
   },
   "file_extension": ".py",
   "mimetype": "text/x-python",
   "name": "python",
   "nbconvert_exporter": "python",
   "pygments_lexer": "ipython3",
   "version": "3.5.2"
  }
 },
 "nbformat": 4,
 "nbformat_minor": 2
}
