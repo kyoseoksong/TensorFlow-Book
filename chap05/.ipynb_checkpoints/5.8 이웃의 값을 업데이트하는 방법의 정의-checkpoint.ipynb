{
 "cells": [
  {
   "cell_type": "code",
   "execution_count": 1,
   "metadata": {},
   "outputs": [],
   "source": [
    "def get_propagation(self, bmu_loc, x, iter):\n",
    "    num_nodes = self.width * self.height\n",
    "    rate = 1.0 - tf.div(iter, self.num_iters) # 반복이 되면서 rate는 감소합니다. 이 값은 파라미터 alpha와 sigma에 영향을 주게됩니다\n",
    "    alpha = rate * 0.5\n",
    "    sigma = rate * tf.to_float(tf.maximum(self.width, self.height)) / 2.\n",
    "    expanded_bmu_loc = tf.expand_dims(tf.to_float(bmu_loc), 0) # bmu_loc를 확장하여 node_locs의 각 원소와 쌍을 이뤄 효율적으로 비교할 수 있게 합니다\n",
    "    sqr_dists_from_bmu = tf.reduce_sum(tf.square(tf.subtract(expanded_bmu_loc, self.node_locs)), 1)\n",
    "    neigh_factor = tf.exp(-tf.div(sqr_dists_from_bmu, 2 * tf.square(sigma))) # BMU에 근접한 노드들이 보다 극적으로 변화하도록 보장합니다\n",
    "    rate = tf.multiply(alpha, neigh_factor)\n",
    "    rate_factor = tf.stack([tf.tile(tf.slice(rate, [i], [1]), [self.dim]) for i in range(num_nodes)])\n",
    "    nodes_diff = tf.multiply(rate_factor, tf.subtract(tf.stack([x for i in range(num_nodes)]), self.nodes))\n",
    "    update_nodes = tf.add(self.nodes, nodes_diff) # 업데이트를 정의합니다\n",
    "    return tf.assign(self.nodes, update_nodes) # 업데이트를 수행하도록 연산을 반환합니다"
   ]
  },
  {
   "cell_type": "code",
   "execution_count": null,
   "metadata": {},
   "outputs": [],
   "source": []
  }
 ],
 "metadata": {
  "kernelspec": {
   "display_name": "Python 3",
   "language": "python",
   "name": "python3"
  },
  "language_info": {
   "codemirror_mode": {
    "name": "ipython",
    "version": 3
   },
   "file_extension": ".py",
   "mimetype": "text/x-python",
   "name": "python",
   "nbconvert_exporter": "python",
   "pygments_lexer": "ipython3",
   "version": "3.5.2"
  }
 },
 "nbformat": 4,
 "nbformat_minor": 2
}
