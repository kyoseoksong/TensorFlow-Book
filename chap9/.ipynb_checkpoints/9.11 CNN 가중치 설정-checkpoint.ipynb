{
 "cells": [
  {
   "cell_type": "code",
   "execution_count": 1,
   "metadata": {},
   "outputs": [
    {
     "ename": "ImportError",
     "evalue": "No module named 'cifar_tools'",
     "output_type": "error",
     "traceback": [
      "\u001b[0;31m---------------------------------------------------------------------------\u001b[0m",
      "\u001b[0;31mImportError\u001b[0m                               Traceback (most recent call last)",
      "\u001b[0;32m<ipython-input-1-1b0bc8f6e849>\u001b[0m in \u001b[0;36m<module>\u001b[0;34m()\u001b[0m\n\u001b[1;32m      1\u001b[0m \u001b[0;32mimport\u001b[0m \u001b[0mnumpy\u001b[0m \u001b[0;32mas\u001b[0m \u001b[0mnp\u001b[0m\u001b[0;34m\u001b[0m\u001b[0m\n\u001b[1;32m      2\u001b[0m \u001b[0;32mimport\u001b[0m \u001b[0mmatplotlib\u001b[0m\u001b[0;34m.\u001b[0m\u001b[0mpyplot\u001b[0m \u001b[0;32mas\u001b[0m \u001b[0mplt\u001b[0m\u001b[0;34m\u001b[0m\u001b[0m\n\u001b[0;32m----> 3\u001b[0;31m \u001b[0;32mimport\u001b[0m \u001b[0mcifar_tools\u001b[0m\u001b[0;34m\u001b[0m\u001b[0m\n\u001b[0m\u001b[1;32m      4\u001b[0m \u001b[0;32mimport\u001b[0m \u001b[0mtensorflow\u001b[0m \u001b[0;32mas\u001b[0m \u001b[0mtf\u001b[0m\u001b[0;34m\u001b[0m\u001b[0m\n\u001b[1;32m      5\u001b[0m \u001b[0mnames\u001b[0m\u001b[0;34m,\u001b[0m \u001b[0mdata\u001b[0m\u001b[0;34m,\u001b[0m \u001b[0mlabels\u001b[0m \u001b[0;34m=\u001b[0m \u001b[0mcifar_tools\u001b[0m\u001b[0;34m.\u001b[0m\u001b[0mread_data\u001b[0m\u001b[0;34m(\u001b[0m\u001b[0;34m'/home/binroot/res/cifar-10-batches-py'\u001b[0m\u001b[0;34m)\u001b[0m\u001b[0;34m\u001b[0m\u001b[0m\n",
      "\u001b[0;31mImportError\u001b[0m: No module named 'cifar_tools'"
     ]
    }
   ],
   "source": [
    "import numpy as np\n",
    "import matplotlib.pyplot as plt\n",
    "import cifar_tools\n",
    "import tensorflow as tf\n",
    "names, data, labels = cifar_tools.read_data('/home/binroot/res/cifar-10-batches-py') # 데이터를 로드합니다\n",
    "\n",
    "x = tf.placeholder(tf.float32, [None, 24 * 24]) # 입력과 출력 플레이스홀더를 정의합니다\n",
    "y = tf.placeholder(tf.float32, [None, len(names)])\n",
    "\n",
    "W1 = tf.Variable(tf.random_normal([5, 5, 1, 64])) # 윈도우 크기 5 x 5의 64개 컨벌루션을 적용합니다\n",
    "b1 = tf.Variable(tf.random_normal([64]))\n",
    "\n",
    "W2 = tf.Variable(tf.random_normal([5, 5, 64, 64])) # 윈도우 크기 5 x 5의 64개 컨벌루션을 적용합니다\n",
    "b2 = tf.Variable(tf.random_normal([64]))\n",
    "\n",
    "W3 = tf.Variable(tf.random_normal([6*6*64, 1024])) # 완전히 연결된 레이어를 도입합니다\n",
    "b3 = tf.Variable(tf.random_normal([1024]))\n",
    "\n",
    "W_out = tf.Variable(tf.random_normal([1024, len(names)])) # 완전히 연결된 선형 레이어 관련 변수를 정의합니다\n",
    "b_out = tf.Variable(tf.random_normal([len(names)]))"
   ]
  },
  {
   "cell_type": "code",
   "execution_count": null,
   "metadata": {},
   "outputs": [],
   "source": []
  }
 ],
 "metadata": {
  "kernelspec": {
   "display_name": "Python 3",
   "language": "python",
   "name": "python3"
  },
  "language_info": {
   "codemirror_mode": {
    "name": "ipython",
    "version": 3
   },
   "file_extension": ".py",
   "mimetype": "text/x-python",
   "name": "python",
   "nbconvert_exporter": "python",
   "pygments_lexer": "ipython3",
   "version": "3.5.2"
  }
 },
 "nbformat": 4,
 "nbformat_minor": 2
}
