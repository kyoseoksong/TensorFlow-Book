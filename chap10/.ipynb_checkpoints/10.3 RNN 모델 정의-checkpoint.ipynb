{
 "cells": [
  {
   "cell_type": "code",
   "execution_count": 1,
   "metadata": {},
   "outputs": [
    {
     "ename": "SyntaxError",
     "evalue": "invalid syntax (<ipython-input-1-feb0ca5008d2>, line 9)",
     "output_type": "error",
     "traceback": [
      "\u001b[0;36m  File \u001b[0;32m\"<ipython-input-1-feb0ca5008d2>\"\u001b[0;36m, line \u001b[0;32m9\u001b[0m\n\u001b[0;31m    outputs, states = tf.nn.dynamic_rnn(cell, self.x, dtype=tf.float32) num_examples = tf.shape(self.x)[0]\u001b[0m\n\u001b[0m                                                                                   ^\u001b[0m\n\u001b[0;31mSyntaxError\u001b[0m\u001b[0;31m:\u001b[0m invalid syntax\n"
     ]
    }
   ],
   "source": [
    "def model(self): \n",
    "    \"\"\"\n",
    "    :파라미터 x: [T, batch_size, input_size] 의 크기를 가지는 입력\n",
    "    :파라미터 W: 완전히 연결된 출력 레이어 가중치의 행렬 \n",
    "    :파라미터 b: 완전히 연결된 출력 레이어 편향의 벡터 \n",
    "    \"\"\"\n",
    "    \n",
    "    cell = rnn.BasicLSTMCell(self.hidden_dim) # LSTM 셀을 생성합니다\n",
    "    outputs, states = tf.nn.dynamic_rnn(cell, self.x, dtype=tf.float32) num_examples = tf.shape(self.x)[0] # 입력에 대해 셀을 실행함으로써 출력과 상태에 대한 텐서를 획득합니다\n",
    "    W_repeated = tf.tile(tf.expand_dims(self.W_out, 0), [num_examples, 1, 1]) out = tf.matmul(outputs, W_repeated) + self.b_out # 완전히 연결된 선형 함수로서 출력 레이어를 계산합니다\n",
    "    out = tf.squeeze(out)\n",
    "    return out"
   ]
  },
  {
   "cell_type": "code",
   "execution_count": null,
   "metadata": {},
   "outputs": [],
   "source": []
  }
 ],
 "metadata": {
  "kernelspec": {
   "display_name": "Python 3",
   "language": "python",
   "name": "python3"
  },
  "language_info": {
   "codemirror_mode": {
    "name": "ipython",
    "version": 3
   },
   "file_extension": ".py",
   "mimetype": "text/x-python",
   "name": "python",
   "nbconvert_exporter": "python",
   "pygments_lexer": "ipython3",
   "version": "3.5.2"
  }
 },
 "nbformat": 4,
 "nbformat_minor": 2
}
