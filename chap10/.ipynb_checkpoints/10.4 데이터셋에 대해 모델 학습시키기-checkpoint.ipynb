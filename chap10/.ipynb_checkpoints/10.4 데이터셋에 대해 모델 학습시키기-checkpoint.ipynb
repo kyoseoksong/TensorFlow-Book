{
 "cells": [
  {
   "cell_type": "code",
   "execution_count": 1,
   "metadata": {},
   "outputs": [],
   "source": [
    "def train(self, train_x, train_y):\n",
    "    with tf.Session() as sess:\n",
    "        tf.get_variable_scope().reuse_variables()\n",
    "        sess.run(tf.global_variables_initializer())\n",
    "        for i in range(1000): # 학습 연산을 1,000회 실행합니다\n",
    "            _, mse = sess.run([self.train_op, self.cost], feed_dict={self.x: train_x, self.y: train_y})\n",
    "            if i % 100 == 0:\n",
    "                print(i, mse)\n",
    "        save_path = self.saver.save(sess, 'model.ckpt')\n",
    "        print('Model saved to {}'.format(save_path))"
   ]
  },
  {
   "cell_type": "code",
   "execution_count": null,
   "metadata": {},
   "outputs": [],
   "source": []
  }
 ],
 "metadata": {
  "kernelspec": {
   "display_name": "Python 3",
   "language": "python",
   "name": "python3"
  },
  "language_info": {
   "codemirror_mode": {
    "name": "ipython",
    "version": 3
   },
   "file_extension": ".py",
   "mimetype": "text/x-python",
   "name": "python",
   "nbconvert_exporter": "python",
   "pygments_lexer": "ipython3",
   "version": "3.5.2"
  }
 },
 "nbformat": 4,
 "nbformat_minor": 2
}
