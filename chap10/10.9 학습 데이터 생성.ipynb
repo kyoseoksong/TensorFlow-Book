{
 "cells": [
  {
   "cell_type": "code",
   "execution_count": 1,
   "metadata": {},
   "outputs": [
    {
     "ename": "NameError",
     "evalue": "name 'SeriesPredictor' is not defined",
     "output_type": "error",
     "traceback": [
      "\u001b[0;31m---------------------------------------------------------------------------\u001b[0m",
      "\u001b[0;31mNameError\u001b[0m                                 Traceback (most recent call last)",
      "\u001b[0;32m<ipython-input-1-128ae35a0d98>\u001b[0m in \u001b[0;36m<module>\u001b[0;34m()\u001b[0m\n\u001b[1;32m      1\u001b[0m \u001b[0;32mif\u001b[0m \u001b[0m__name__\u001b[0m \u001b[0;34m==\u001b[0m \u001b[0;34m'__main__'\u001b[0m\u001b[0;34m:\u001b[0m\u001b[0;34m\u001b[0m\u001b[0m\n\u001b[1;32m      2\u001b[0m     \u001b[0mseq_size\u001b[0m \u001b[0;34m=\u001b[0m \u001b[0;36m5\u001b[0m\u001b[0;34m\u001b[0m\u001b[0m\n\u001b[0;32m----> 3\u001b[0;31m     predictor = SeriesPredictor(\n\u001b[0m\u001b[1;32m      4\u001b[0m         \u001b[0minput_dim\u001b[0m\u001b[0;34m=\u001b[0m\u001b[0;36m1\u001b[0m\u001b[0;34m,\u001b[0m\u001b[0;34m\u001b[0m\u001b[0m\n\u001b[1;32m      5\u001b[0m         \u001b[0mseq_size\u001b[0m\u001b[0;34m=\u001b[0m\u001b[0mseq_size\u001b[0m\u001b[0;34m,\u001b[0m\u001b[0;34m\u001b[0m\u001b[0m\n",
      "\u001b[0;31mNameError\u001b[0m: name 'SeriesPredictor' is not defined"
     ]
    }
   ],
   "source": [
    "if __name__ == '__main__':\n",
    "    seq_size = 5\n",
    "    predictor = SeriesPredictor(\n",
    "        input_dim=1, # 시퀀스의 각 원소의 차원은 스칼라 (1차원) 입니다\n",
    "        seq_size=seq_size, # 각 시퀀스의 길이\n",
    "        hidden_dim=100) # RNN 숨겨진 차원의 크기\n",
    "    \n",
    "    data = data_loader.load_series('international-airline-passengers.csv') # 데이터를 로드합니다\n",
    "    train_data, actual_vals = data_loader.split_data(data)\n",
    "    \n",
    "    train_x, train_y = [], []\n",
    "    for i in range(len(train_data) - seq_size - 1): # 학습 데이터셋을 구축하기 위해 시계열 데이터에 윈도우를 돌려줍니다\n",
    "        train_x.append(np.expand_dims(train_data[i:i+seq_size], axis=1).tolist())\n",
    "        train_y.append(train_data[i+1:i+seq_size+1])\n",
    "        \n",
    "        test_x, test_y = [], [] # 테스트 데이터셋을 구축하기 위해 동일한 슬라이딩 윈도우 전략을 이용합니다\n",
    "        for i in range(len(actual_vals) - seq_size - 1):\n",
    "            test_x.append(np.expand_dims(actual_vals[i:i+seq_size], axis=1).tolist())\n",
    "            test_y.append(actual_vals[i+1:i+seq_size+1])\n",
    "            \n",
    "        predictor.train(train_x, train_y, test_x, test_y) # 학습 데이터셋에 대해 모델을 학습시킵니다\n",
    "        \n",
    "        with tf.Session() as sess: # 모델의 성능을 시각화합니다\n",
    "            predicted_vals = predictor.test(sess, test_x)[:,0]\n",
    "            print('predicted_vals', np.shape(predicted_vals))\n",
    "            plot_results(train_data, predicted_vals, actual_vals, 'predictions.png')\n",
    "            \n",
    "            prev_seq = train_x[-1]\n",
    "            predicted_vals = []\n",
    "            for i in range(20):\n",
    "                next_seq = predictor.test(sess, [prev_seq])\n",
    "                predicted_vals.append(next_seq[-1])\n",
    "                prev_seq = np.vstack((prev_seq[1:], next_seq[-1]))\n",
    "            plot_results(train_data, predicted_vals, actual_vals, 'hallucinations.png')"
   ]
  },
  {
   "cell_type": "code",
   "execution_count": null,
   "metadata": {},
   "outputs": [],
   "source": []
  }
 ],
 "metadata": {
  "kernelspec": {
   "display_name": "Python 3",
   "language": "python",
   "name": "python3"
  },
  "language_info": {
   "codemirror_mode": {
    "name": "ipython",
    "version": 3
   },
   "file_extension": ".py",
   "mimetype": "text/x-python",
   "name": "python",
   "nbconvert_exporter": "python",
   "pygments_lexer": "ipython3",
   "version": "3.5.2"
  }
 },
 "nbformat": 4,
 "nbformat_minor": 2
}
