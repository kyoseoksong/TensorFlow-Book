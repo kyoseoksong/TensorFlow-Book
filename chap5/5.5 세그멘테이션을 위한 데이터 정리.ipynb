{
 "cells": [
  {
   "cell_type": "code",
   "execution_count": 1,
   "metadata": {},
   "outputs": [
    {
     "ename": "ImportError",
     "evalue": "No module named 'bregman'",
     "output_type": "error",
     "traceback": [
      "\u001b[0;31m---------------------------------------------------------------------------\u001b[0m",
      "\u001b[0;31mImportError\u001b[0m                               Traceback (most recent call last)",
      "\u001b[0;32m<ipython-input-1-fb5c850df5dd>\u001b[0m in \u001b[0;36m<module>\u001b[0;34m()\u001b[0m\n\u001b[1;32m      1\u001b[0m \u001b[0;32mimport\u001b[0m \u001b[0mtensorflow\u001b[0m \u001b[0;32mas\u001b[0m \u001b[0mtf\u001b[0m\u001b[0;34m\u001b[0m\u001b[0m\n\u001b[1;32m      2\u001b[0m \u001b[0;32mimport\u001b[0m \u001b[0mnumpy\u001b[0m \u001b[0;32mas\u001b[0m \u001b[0mnp\u001b[0m\u001b[0;34m\u001b[0m\u001b[0m\n\u001b[0;32m----> 3\u001b[0;31m \u001b[0;32mfrom\u001b[0m \u001b[0mbregman\u001b[0m\u001b[0;34m.\u001b[0m\u001b[0msuite\u001b[0m \u001b[0;32mimport\u001b[0m \u001b[0;34m*\u001b[0m\u001b[0;34m\u001b[0m\u001b[0m\n\u001b[0m\u001b[1;32m      4\u001b[0m \u001b[0;34m\u001b[0m\u001b[0m\n\u001b[1;32m      5\u001b[0m \u001b[0mk\u001b[0m\u001b[0;34m=\u001b[0m\u001b[0;36m2\u001b[0m \u001b[0;31m# 군집의 개수를 결정합니다\u001b[0m\u001b[0;34m\u001b[0m\u001b[0m\n",
      "\u001b[0;31mImportError\u001b[0m: No module named 'bregman'"
     ]
    }
   ],
   "source": [
    "import tensorflow as tf\t\n",
    "import numpy as np\n",
    "from bregman.suite import *\n",
    "\n",
    "k=2 # 군집의 개수를 결정합니다\n",
    "segment_size = 50 # 세그멘트의 크기가 작을수록 결과가 좋습니다. 하지만 성능은 느려집니다\n",
    "max_iterations = 100 # 반복 회수를 정의합니다\n",
    "\n",
    "chroma = tf.placeholder(tf.float32)\n",
    "max_freqs = tf.argmax(chroma, 0)\n",
    "\n",
    "def get_chromagram(audio_file):\n",
    "    F = Chromagram(audio_file, nfft=16384, wfft=8192, nhop=2205)\n",
    "    return F.X\n",
    "\n",
    "def get_dataset(sess, audio_file): # 오디오의 세그멘트를 분리된 데이터 아이템으로 추출함으로써 데이터셋을 획득합니다\n",
    "    chroma_data = get_chromagram(audio_file)\n",
    "    print('chroma_data', np.shape(chroma_data))\n",
    "    chroma_length = np.shape(chroma_data)[1]\n",
    "    xs = []\n",
    "    for i in range(chroma_length / segment_size):\n",
    "        chroma_segment = chroma_data[:, i*segment_size:(i+1)*segment_size]\n",
    "        x = extract_feature_vector(sess, chroma_segment)\n",
    "        if len(xs) == 0:\n",
    "            xs = x \n",
    "        else:\n",
    "            xs = np.vstack((xs, x))\n",
    "    return xs"
   ]
  },
  {
   "cell_type": "code",
   "execution_count": null,
   "metadata": {},
   "outputs": [],
   "source": []
  }
 ],
 "metadata": {
  "kernelspec": {
   "display_name": "Python 3",
   "language": "python",
   "name": "python3"
  },
  "language_info": {
   "codemirror_mode": {
    "name": "ipython",
    "version": 3
   },
   "file_extension": ".py",
   "mimetype": "text/x-python",
   "name": "python",
   "nbconvert_exporter": "python",
   "pygments_lexer": "ipython3",
   "version": "3.5.2"
  }
 },
 "nbformat": 4,
 "nbformat_minor": 2
}
