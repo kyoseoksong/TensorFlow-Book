{
 "cells": [
  {
   "cell_type": "code",
   "execution_count": 1,
   "metadata": {},
   "outputs": [],
   "source": [
    "def train(self, data):\n",
    "    with tf.Session() as sess:\n",
    "        sess.run(tf.global_variables_initializer())\n",
    "        for i in range(self.num_iters):\n",
    "            for data_x in data:\n",
    "                sess.run(self.propagate_nodes, feed_dict={self.x: data_x, self.iter: i})\n",
    "        centroid_grid = [[] for i in range(self.width)]\n",
    "        self.nodes_val = list(sess.run(self.nodes))\n",
    "        self.locs_val = list(sess.run(self.node_locs))\n",
    "        for i, l in enumerate(self.locs_val):\n",
    "            centroid_grid[int(l[0])].append(self.nodes_val[i])\n",
    "        self.centroid_grid = centroid_grid"
   ]
  },
  {
   "cell_type": "code",
   "execution_count": null,
   "metadata": {},
   "outputs": [],
   "source": []
  }
 ],
 "metadata": {
  "kernelspec": {
   "display_name": "Python 3",
   "language": "python",
   "name": "python3"
  },
  "language_info": {
   "codemirror_mode": {
    "name": "ipython",
    "version": 3
   },
   "file_extension": ".py",
   "mimetype": "text/x-python",
   "name": "python",
   "nbconvert_exporter": "python",
   "pygments_lexer": "ipython3",
   "version": "3.5.2"
  }
 },
 "nbformat": 4,
 "nbformat_minor": 2
}
