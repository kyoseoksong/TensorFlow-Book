{
 "cells": [
  {
   "cell_type": "code",
   "execution_count": 1,
   "metadata": {},
   "outputs": [
    {
     "name": "stdout",
     "output_type": "stream",
     "text": [
      "Tensor(\"Const:0\", shape=(1, 2), dtype=float32)\n",
      "Tensor(\"Const_1:0\", shape=(2, 1), dtype=int32)\n",
      "Tensor(\"Const_2:0\", shape=(2, 3, 2), dtype=int32)\n"
     ]
    }
   ],
   "source": [
    "import tensorflow as tf\n",
    "\n",
    "# 1 x 2 행렬을 정의 (원서에는 2 x 1 이라고 되어 있으나 오타임)\n",
    "m1 = tf.constant([[1., 2.]])\n",
    "\n",
    "# 2 x 1 행렬을 정의 (원서에는 1 x 2 라고 되어 있으나 오타임)\n",
    "m2 = tf.constant([[1], \n",
    "                  [2]])\n",
    "\n",
    "# 랭크-3 텐서를 정의\n",
    "m3 = tf.constant([[[1,2],\n",
    "                   [3,4],\n",
    "                   [5,6]],\n",
    "                  [[7,8],\n",
    "                   [9,10],\n",
    "                   [11,12]]])\n",
    "\n",
    "# 텐서를 출력\n",
    "print(m1)\n",
    "print(m2)\n",
    "print(m3)"
   ]
  },
  {
   "cell_type": "code",
   "execution_count": null,
   "metadata": {},
   "outputs": [],
   "source": []
  }
 ],
 "metadata": {
  "kernelspec": {
   "display_name": "Python 3",
   "language": "python",
   "name": "python3"
  },
  "language_info": {
   "codemirror_mode": {
    "name": "ipython",
    "version": 3
   },
   "file_extension": ".py",
   "mimetype": "text/x-python",
   "name": "python",
   "nbconvert_exporter": "python",
   "pygments_lexer": "ipython3",
   "version": "3.5.2"
  }
 },
 "nbformat": 4,
 "nbformat_minor": 2
}
