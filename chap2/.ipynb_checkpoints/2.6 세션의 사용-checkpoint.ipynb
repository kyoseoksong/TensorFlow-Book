{
 "cells": [
  {
   "cell_type": "code",
   "execution_count": 1,
   "metadata": {},
   "outputs": [],
   "source": [
    "import tensorflow as tf"
   ]
  },
  {
   "cell_type": "code",
   "execution_count": 2,
   "metadata": {},
   "outputs": [
    {
     "name": "stdout",
     "output_type": "stream",
     "text": [
      "[[-1. -2.]]\n"
     ]
    }
   ],
   "source": [
    "x = tf.constant([[1., 2.]]) # 임의의 행렬을 정의합니다\n",
    "neg_Matrix = tf.negative(x) # 이 행렬에 부정 연산을 실행합니다\n",
    "with tf.Session() as sess: #연산을 실행하기 위해 세션을 시작합니다\n",
    "    result = sess.run(neg_Matrix) # 세션에게 neg_Matrix를 평가하게 합니다\n",
    "print(result) # 결과로 나오는 행렬을 출력합니다"
   ]
  },
  {
   "cell_type": "code",
   "execution_count": null,
   "metadata": {},
   "outputs": [],
   "source": []
  }
 ],
 "metadata": {
  "kernelspec": {
   "display_name": "Python 3",
   "language": "python",
   "name": "python3"
  },
  "language_info": {
   "codemirror_mode": {
    "name": "ipython",
    "version": 3
   },
   "file_extension": ".py",
   "mimetype": "text/x-python",
   "name": "python",
   "nbconvert_exporter": "python",
   "pygments_lexer": "ipython3",
   "version": "3.5.2"
  }
 },
 "nbformat": 4,
 "nbformat_minor": 2
}
