{
 "cells": [
  {
   "cell_type": "code",
   "execution_count": null,
   "metadata": {},
   "outputs": [],
   "source": [
    "raw_data = np.random.normal (10, 1, 100)\n",
    "\n",
    "with tf.Session() as sess:\n",
    "    for i in range(len(raw_data)):\n",
    "        curr_avg = sess.run(update_avg, feed_dict={curr_value:raw_data[i]}\n",
    "        sess.run(tf.assign(prev_avg, curr_avg))"
   ]
  }
 ],
 "metadata": {
  "kernelspec": {
   "display_name": "Python 3",
   "language": "python",
   "name": "python3"
  },
  "language_info": {
   "codemirror_mode": {
    "name": "ipython",
    "version": 3
   },
   "file_extension": ".py",
   "mimetype": "text/x-python",
   "name": "python",
   "nbconvert_exporter": "python",
   "pygments_lexer": "ipython3",
   "version": "3.5.2"
  }
 },
 "nbformat": 4,
 "nbformat_minor": 2
}
