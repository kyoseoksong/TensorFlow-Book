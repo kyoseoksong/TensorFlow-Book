{
 "cells": [
  {
   "cell_type": "code",
   "execution_count": 1,
   "metadata": {},
   "outputs": [],
   "source": [
    "import tensorflow as tf"
   ]
  },
  {
   "cell_type": "code",
   "execution_count": 2,
   "metadata": {},
   "outputs": [
    {
     "name": "stdout",
     "output_type": "stream",
     "text": [
      "[[-1. -2.]]\n"
     ]
    }
   ],
   "source": [
    "sess = tf.InteractiveSession() # sess 변수가 더이상 전달될 필요 없도록 쌍방향 세션을 시작합니다\n",
    "x = tf.constant([[1., 2.]]) # 임의의 행렬을 정의하고 부정연산을 수행합니다\n",
    "negMatrix = tf.negative(x)\n",
    "result = negMatrix.eval() # 세션을 명시적으로 지정하지 않고도 negMatrix를 평가할 수 있습니다\n",
    "print(result) # 부정연산된 행렬을 출력합니다\n",
    "sess.close() # 리소스를 비워주기 위해 세션을 닫는 것을 기억합니다"
   ]
  },
  {
   "cell_type": "code",
   "execution_count": null,
   "metadata": {},
   "outputs": [],
   "source": []
  }
 ],
 "metadata": {
  "kernelspec": {
   "display_name": "Python 3",
   "language": "python",
   "name": "python3"
  },
  "language_info": {
   "codemirror_mode": {
    "name": "ipython",
    "version": 3
   },
   "file_extension": ".py",
   "mimetype": "text/x-python",
   "name": "python",
   "nbconvert_exporter": "python",
   "pygments_lexer": "ipython3",
   "version": "3.5.2"
  }
 },
 "nbformat": 4,
 "nbformat_minor": 2
}
