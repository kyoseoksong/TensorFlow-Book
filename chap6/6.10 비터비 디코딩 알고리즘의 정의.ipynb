{
 "cells": [
  {
   "cell_type": "code",
   "execution_count": 1,
   "metadata": {},
   "outputs": [],
   "source": [
    "def viterbi_decode(sess, hmm, observations):\n",
    "    viterbi = sess.run(hmm.forward_init_op(), feed_dict={hmm.obs: observations[0]})\n",
    "    backpts = np.ones((hmm.N, len(observations)), 'int32') * -1\n",
    "\n",
    "    for t in range(1, len(observations)):\n",
    "        viterbi, backpt = sess.run([hmm.decode_op(), hmm.backpt_op()], feed_dict={hmm.obs: observations[t],hmm.viterbi: viterbi})\n",
    "        backpts[:, t] = backpt\n",
    "    \n",
    "    tokens = [viterbi[:, -1].argmax()]\n",
    "    \n",
    "    for i in range(len(observations) - 1, 0, -1):\n",
    "        tokens.append(backpts[tokens[-1], i])\n",
    "    return tokens[::-1]"
   ]
  },
  {
   "cell_type": "code",
   "execution_count": null,
   "metadata": {},
   "outputs": [],
   "source": []
  }
 ],
 "metadata": {
  "kernelspec": {
   "display_name": "Python 3",
   "language": "python",
   "name": "python3"
  },
  "language_info": {
   "codemirror_mode": {
    "name": "ipython",
    "version": 3
   },
   "file_extension": ".py",
   "mimetype": "text/x-python",
   "name": "python",
   "nbconvert_exporter": "python",
   "pygments_lexer": "ipython3",
   "version": "3.5.2"
  }
 },
 "nbformat": 4,
 "nbformat_minor": 2
}
