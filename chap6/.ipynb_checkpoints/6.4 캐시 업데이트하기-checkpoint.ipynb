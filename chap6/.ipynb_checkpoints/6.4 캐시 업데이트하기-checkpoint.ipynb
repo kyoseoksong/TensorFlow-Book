{
 "cells": [
  {
   "cell_type": "code",
   "execution_count": 1,
   "metadata": {},
   "outputs": [],
   "source": [
    "def forward_op(self):\n",
    "    transitions = tf.matmul(self.fwd, tf.transpose(self.get_emission(self.obs_idx)))\n",
    "    weighted_transitions = transitions * self.trans_prob\n",
    "    fwd = tf.reduce_sum(weighted_transitions, 0)\n",
    "    return tf.reshape(fwd, tf.shape(self.fwd))"
   ]
  },
  {
   "cell_type": "code",
   "execution_count": null,
   "metadata": {},
   "outputs": [],
   "source": []
  }
 ],
 "metadata": {
  "kernelspec": {
   "display_name": "Python 3",
   "language": "python",
   "name": "python3"
  },
  "language_info": {
   "codemirror_mode": {
    "name": "ipython",
    "version": 3
   },
   "file_extension": ".py",
   "mimetype": "text/x-python",
   "name": "python",
   "nbconvert_exporter": "python",
   "pygments_lexer": "ipython3",
   "version": "3.5.2"
  }
 },
 "nbformat": 4,
 "nbformat_minor": 2
}
