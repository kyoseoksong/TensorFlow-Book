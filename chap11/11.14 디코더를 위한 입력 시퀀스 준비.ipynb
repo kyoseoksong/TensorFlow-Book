{
 "cells": [
  {
   "cell_type": "code",
   "execution_count": null,
   "metadata": {},
   "outputs": [],
   "source": [
    "decoder_raw_seq = decoder_output_seq[:, :-1] # 가장 마지막 열을 무시함으로써 행렬을 잘라줍니다\n",
    "go_prefixes = tf.fill([BATCH_SIZE, 1], output_symbol_to_int['<GO>']) # <GO> 기호의 컬럼 벡터를 생성해 줍니다\n",
    "decoder_input_seq = tf.concat([go_prefixes, decoder_raw_seq], 1) # (<GO> 벡터를 잘라낸 행렬의 앞쪽에 붙여줍니다"
   ]
  }
 ],
 "metadata": {
  "kernelspec": {
   "display_name": "Python 3",
   "language": "python",
   "name": "python3"
  },
  "language_info": {
   "codemirror_mode": {
    "name": "ipython",
    "version": 3
   },
   "file_extension": ".py",
   "mimetype": "text/x-python",
   "name": "python",
   "nbconvert_exporter": "python",
   "pygments_lexer": "ipython3",
   "version": "3.5.2"
  }
 },
 "nbformat": 4,
 "nbformat_minor": 2
}
