{
 "cells": [
  {
   "cell_type": "code",
   "execution_count": 1,
   "metadata": {},
   "outputs": [],
   "source": [
    "def extract_character_vocab(data):\n",
    "    special_symbols = ['<PAD>', '<UNK>', '<GO>',  '<EOS>']\n",
    "    set_symbols = set([character for line in data for character in line])\n",
    "    all_symbols = special_symbols + list(set_symbols)\n",
    "    int_to_symbol = {word_i: word\n",
    "                     for word_i, word in enumerate(all_symbols)}\n",
    "    symbol_to_int = {word: word_i\n",
    "                     for word_i, word in int_to_symbol.items()}\n",
    "    return int_to_symbol, symbol_to_int"
   ]
  },
  {
   "cell_type": "code",
   "execution_count": null,
   "metadata": {},
   "outputs": [],
   "source": [
    "input_sentences = ['hello stranger', 'bye bye'] # 학습을 위한 입력 문장 리스트\n",
    "output_sentences = ['hiya', 'later alligator'] # 학습을 위한 출력 문장 리스트\n",
    "input_int_to_symbol, input_symbol_to_int = extract_character_vocab(input_sentences)\n",
    "output_int_to_symbol, output_symbol_to_int = extract_character_vocab(output_sentences"
   ]
  }
 ],
 "metadata": {
  "kernelspec": {
   "display_name": "Python 3",
   "language": "python",
   "name": "python3"
  },
  "language_info": {
   "codemirror_mode": {
    "name": "ipython",
    "version": 3
   },
   "file_extension": ".py",
   "mimetype": "text/x-python",
   "name": "python",
   "nbconvert_exporter": "python",
   "pygments_lexer": "ipython3",
   "version": "3.5.2"
  }
 },
 "nbformat": 4,
 "nbformat_minor": 2
}
