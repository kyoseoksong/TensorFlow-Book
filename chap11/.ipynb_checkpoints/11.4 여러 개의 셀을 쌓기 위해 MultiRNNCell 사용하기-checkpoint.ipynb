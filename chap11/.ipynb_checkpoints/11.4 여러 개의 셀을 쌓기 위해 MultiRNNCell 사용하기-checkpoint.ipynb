{
 "cells": [
  {
   "cell_type": "code",
   "execution_count": null,
   "metadata": {},
   "outputs": [],
   "source": [
    "def make_multi_cell(state_dim, num_layers):\n",
    "    cells = [make_cell(state_dim) for _ in range(num_layers)] # RNN 셀의 리스트를 구축하는 경우 for-loop 문법이 선호됩니다\n",
    "    return tf.contrib.rnn.MultiRNNCell(cells)\n",
    "\n",
    "multi_cell = make_multi_cell(state_dim=10, num_layers=4)\n",
    "outputs4, states4 = tf.nn.dynamic_rnn(multi_cell,\n",
    "                                      input_placeholder,\n",
    "                                      dtype=tf.float32)"
   ]
  }
 ],
 "metadata": {
  "kernelspec": {
   "display_name": "Python 3",
   "language": "python",
   "name": "python3"
  },
  "language_info": {
   "codemirror_mode": {
    "name": "ipython",
    "version": 3
   },
   "file_extension": ".py",
   "mimetype": "text/x-python",
   "name": "python",
   "nbconvert_exporter": "python",
   "pygments_lexer": "ipython3",
   "version": "3.5.2"
  }
 },
 "nbformat": 4,
 "nbformat_minor": 2
}
