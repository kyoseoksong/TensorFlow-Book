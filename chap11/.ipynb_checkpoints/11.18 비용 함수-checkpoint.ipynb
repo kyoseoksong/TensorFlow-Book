{
 "cells": [
  {
   "cell_type": "code",
   "execution_count": null,
   "metadata": {},
   "outputs": [],
   "source": [
    "training_logits = tf.identity(training_decoder_output_seq.rnn_output, name='logits') # 편의를 위해 텐서명을 변경합니다\n",
    "inference_logits = tf.identity(inference_decoder_output_seq.sample_id, name='predictions')\n",
    "\n",
    "masks = tf.sequence_mask( # sequence_loss에 대한 가중치를 생성합니다\n",
    "    decoder_seq_len,\n",
    "    max_decoder_seq_len,\n",
    "    dtype=tf.float32,\n",
    "    name='masks'\n",
    ")\n",
    "\n",
    "cost = tf.contrib.seq2seq.sequence_loss( # 텐서플로우의 내장 시퀀스 비용 함수를 이용합니다\n",
    "    training_logits,\n",
    "    decoder_output_seq,\n",
    "    masks\n",
    ")"
   ]
  }
 ],
 "metadata": {
  "kernelspec": {
   "display_name": "Python 3",
   "language": "python",
   "name": "python3"
  },
  "language_info": {
   "codemirror_mode": {
    "name": "ipython",
    "version": 3
   },
   "file_extension": ".py",
   "mimetype": "text/x-python",
   "name": "python",
   "nbconvert_exporter": "python",
   "pygments_lexer": "ipython3",
   "version": "3.5.2"
  }
 },
 "nbformat": 4,
 "nbformat_minor": 2
}
