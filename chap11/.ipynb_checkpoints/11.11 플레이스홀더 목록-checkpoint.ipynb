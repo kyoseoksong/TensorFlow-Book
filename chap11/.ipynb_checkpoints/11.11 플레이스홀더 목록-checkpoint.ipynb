{
 "cells": [
  {
   "cell_type": "code",
   "execution_count": null,
   "metadata": {},
   "outputs": [],
   "source": [
    "# 인코더 플레이스홀더\n",
    "\n",
    "encoder_input_seq = tf.placeholder( # 인코더의 입력을 위한 정수 시퀀스 \n",
    "    tf.int32,\n",
    "    [None, None], # 형태는 배치 크기 x 시퀀스 길이\n",
    "    name='encoder_input_seq'\n",
    ")\n",
    "\n",
    "encoder_seq_len = tf.placeholder( # 배치 내 시퀀스의 길이\n",
    "    tf.int32,\n",
    "    (None,), # 시퀀스의 길이가 가변적이기 때문에 형태도 동적입니다\n",
    "    name='encoder_seq_len'\n",
    ")\n",
    "\n",
    "# 디코더 플레이스홀더\n",
    "\n",
    "decoder_output_seq = tf.placeholder( # 디코더의 출력을 위한 정수 시퀀스\n",
    "    tf.int32,\n",
    "    [None, None], # 형태는 배치 크기 x 시퀀스 길이\n",
    "    name='decoder_output_seq'\n",
    ")\n",
    "\n",
    "decoder_seq_len = tf.placeholder( # 배치 내의 시퀀스의 길이\n",
    "    tf.int32,\n",
    "    (None,), # 시퀀스의 길이가 가변적이기 때문에 형태도 동적입니다\n",
    "    name='decoder_seq_len'\n",
    ")\n",
    "\n",
    "max_decoder_seq_len = tf.reduce_max( # 배치 내의 디코더 시퀀스의 최대 길이\n",
    "    decoder_seq_len, \n",
    "    name='max_decoder_seq_len'\n",
    ")"
   ]
  }
 ],
 "metadata": {
  "kernelspec": {
   "display_name": "Python 3",
   "language": "python",
   "name": "python3"
  },
  "language_info": {
   "codemirror_mode": {
    "name": "ipython",
    "version": 3
   },
   "file_extension": ".py",
   "mimetype": "text/x-python",
   "name": "python",
   "nbconvert_exporter": "python",
   "pygments_lexer": "ipython3",
   "version": "3.5.2"
  }
 },
 "nbformat": 4,
 "nbformat_minor": 2
}
