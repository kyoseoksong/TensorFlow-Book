{
 "cells": [
  {
   "cell_type": "code",
   "execution_count": null,
   "metadata": {},
   "outputs": [],
   "source": [
    "input_sentences = load_sentences('data/words_input.txt') # 입력 문장을 문자열 리스트로 불러옵니다\n",
    "output_sentences = load_sentences('data/words_output.txt') # 출력 문장을 동일한 방법으로 불러옵니다\n",
    "\n",
    "input_seq = [\n",
    "    [input_symbol_to_int.get(symbol, input_symbol_to_int['<UNK>'])\n",
    "     for symbol in line] # 문자들 간에 반복합니다\n",
    "    for line in input_sentences # 텍스트 행간에 반복합니다\n",
    "]\n",
    "\n",
    "output_seq = [\n",
    "    [output_symbol_to_int.get(symbol, output_symbol_to_int['<UNK>'])\n",
    "     for symbol in line] + [output_symbol_to_int['<EOS>']] # 출력 데이터 끝쪽에 EOS 기호를 붙여줍니다\n",
    "    for line in output_sentences # 행 간에 반복합니다\n",
    "]\n",
    "\n",
    "sess = tf.InteractiveSession()\n",
    "sess.run(tf.global_variables_initializer())\n",
    "saver = tf.train.Saver() # 학습된 파라미터를 저장하는 것은 좋은 생각입니다\n",
    "\n",
    "for epoch in range(NUM_EPOCS + 1): # 에포크만큼 반복합니다\n",
    "    for batch_idx in range(len(input_sentences) // BATCH_SIZE): # 배치 수만큼 반복합니다\n",
    "        input_data, output_data = get_batches(input_sentences, # 현재의 배치에 대해 입력과 출력 쌍을 획득합니다\n",
    "                                              output_sentences,\n",
    "                                              batch_idx)\n",
    "        input_batch, input_lenghts = input_data[batch_idx]\n",
    "        output_batch, output_lengths = output_data[batch_idx]\n",
    "        \n",
    "        _, cost_val = sess.run( # 현재의 배치에 대해 최적화기를 실행합니다\n",
    "            [train_op, cost],\n",
    "            feed_dict={\n",
    "                encoder_input_seq: input_batch,\n",
    "                encoder_seq_len: input_lengths,\n",
    "                decoder_output_seq: output_batch,\n",
    "                decoder_seq_len: output_lengths\n",
    "            }\n",
    "        )\n",
    "        \n",
    "saver.save(sess, 'model.ckpt')\n",
    "sess.close()"
   ]
  }
 ],
 "metadata": {
  "kernelspec": {
   "display_name": "Python 3",
   "language": "python",
   "name": "python3"
  },
  "language_info": {
   "codemirror_mode": {
    "name": "ipython",
    "version": 3
   },
   "file_extension": ".py",
   "mimetype": "text/x-python",
   "name": "python",
   "nbconvert_exporter": "python",
   "pygments_lexer": "ipython3",
   "version": "3.5.2"
  }
 },
 "nbformat": 4,
 "nbformat_minor": 2
}
