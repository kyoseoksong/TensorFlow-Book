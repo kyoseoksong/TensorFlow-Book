{
 "cells": [
  {
   "cell_type": "code",
   "execution_count": null,
   "metadata": {},
   "outputs": [],
   "source": [
    "ids = tf.constant([1, 0, 2]) # fight, the, wind 같은 단어에 상응하는 참조를 임베딩합니다\n",
    "lookup_0d = sess.run(tf.nn.embedding_lookup(embeddings_0d, ids))\n",
    "print(lookup_0d)\n",
    "\n",
    "lookup_4d = sess.run(tf.nn.embedding_lookup(embeddings_4d, ids))\n",
    "print(lookup_4d)\n",
    "\n",
    "lookup_2x2d = sess.run(tf.nn.embedding_lookup(embeddings_2x2d, ids))\n",
    "print(lookup_2x2d)"
   ]
  }
 ],
 "metadata": {
  "kernelspec": {
   "display_name": "Python 3",
   "language": "python",
   "name": "python3"
  },
  "language_info": {
   "codemirror_mode": {
    "name": "ipython",
    "version": 3
   },
   "file_extension": ".py",
   "mimetype": "text/x-python",
   "name": "python",
   "nbconvert_exporter": "python",
   "pygments_lexer": "ipython3",
   "version": "3.5.2"
  }
 },
 "nbformat": 4,
 "nbformat_minor": 2
}
