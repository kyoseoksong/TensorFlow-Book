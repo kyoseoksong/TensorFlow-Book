{
 "cells": [
  {
   "cell_type": "code",
   "execution_count": 1,
   "metadata": {},
   "outputs": [],
   "source": [
    "import tensorflow as tf"
   ]
  },
  {
   "cell_type": "code",
   "execution_count": 2,
   "metadata": {},
   "outputs": [
    {
     "name": "stdout",
     "output_type": "stream",
     "text": [
      "spikes data saved in file: ./spikes.ckpt\n"
     ]
    }
   ],
   "source": [
    "sess = tf.InteractiveSession() # 텐서플로우를 불러오고 쌍방향 세션을 가능하게 합니다\n",
    "\n",
    "raw_data = [1., 2., 8., -1., 0., 5.5, 6., 13] # 원데이터가 이와 같다고 하겠습니다\n",
    "spikes = tf.Variable([False] * len(raw_data), name='spikes') # spikes라는 불리언 벡터를 정의하여 숫자가 갑자기 증가는 경우를 탐지하게 합니다\n",
    "spikes.initializer.run() # 변수를 초기화하는 것을 잊지 말아야 합니다\n",
    "\n",
    "saver = tf.train.Saver() # saver 연산은 변수의 저장과 복구를 가능하게 합니다. 생성자에 사전을 전달하지 않으면 현재 프로그램 내의 모든 변수들을 저장하게 됩니다\n",
    "\n",
    "for i in range(1, len(raw_data)): # 데이터를 돌면서 주목할만한 증가가 있는 경우에 spikes 변수를 업데이트해 줍니다\n",
    "    if raw_data[i] - raw_data[i-1] > 5:\n",
    "        spikes_val = spikes.eval()\n",
    "        spikes_val[i] = True\n",
    "        updater = tf.assign(spikes, spikes_val) # tf.assign 함수를 이용하여 spikes 값을 업데이트합니다\n",
    "        updater.eval() # 업데이트를 실행해야 spikes 가 업데이트됩니다\n",
    "\n",
    "save_path = saver.save(sess, \"./spikes.ckpt\") # 변수를 디스크에 저장합니다\n",
    "print(\"spikes data saved in file: %s\" % save_path) # 변수가 저장된 파일 위치의 상대 경로를 출력합니다\n",
    "\n",
    "sess.close()"
   ]
  },
  {
   "cell_type": "code",
   "execution_count": null,
   "metadata": {},
   "outputs": [],
   "source": []
  }
 ],
 "metadata": {
  "kernelspec": {
   "display_name": "Python 3",
   "language": "python",
   "name": "python3"
  },
  "language_info": {
   "codemirror_mode": {
    "name": "ipython",
    "version": 3
   },
   "file_extension": ".py",
   "mimetype": "text/x-python",
   "name": "python",
   "nbconvert_exporter": "python",
   "pygments_lexer": "ipython3",
   "version": "3.5.2"
  }
 },
 "nbformat": 4,
 "nbformat_minor": 2
}
