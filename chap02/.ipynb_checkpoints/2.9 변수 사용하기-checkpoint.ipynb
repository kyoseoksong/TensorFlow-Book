{
 "cells": [
  {
   "cell_type": "code",
   "execution_count": 1,
   "metadata": {},
   "outputs": [],
   "source": [
    "import tensorflow as tf"
   ]
  },
  {
   "cell_type": "code",
   "execution_count": 2,
   "metadata": {},
   "outputs": [
    {
     "name": "stdout",
     "output_type": "stream",
     "text": [
      "Spike False\n",
      "Spike True\n",
      "Spike False\n",
      "Spike False\n",
      "Spike True\n",
      "Spike False\n",
      "Spike True\n"
     ]
    }
   ],
   "source": [
    "sess = tf.InteractiveSession() # 세션을 쌍방향 모드로 시작하여 sess을 계속 전달할 필요가 없도록 합니다\n",
    "\n",
    "raw_data = [1., 2., 8., -1., 0., 5.5, 6., 13] # 원데이터가 이와 같다고 하겠습니다\n",
    "spike = tf.Variable(False) # spike라는 불리언 변수를 생성하여 숫자가 갑자기 증가는 경우를 탐지하게 합니다\n",
    "spike.initializer.run() # 모든 변수들이 초기화되어야 하기 때문에 run() 을 호출하여 변수를 초기화합니다\n",
    "\n",
    "for i in range(1, len(raw_data)): # 첫번째 원소만 건너뛴 채 데이터를 돌면서 주목할만한 증가가 있는 경우에 spike 변수를 업데이트해 줍니다\n",
    "    if raw_data[i] - raw_data[i-1] > 5:\n",
    "        updater = tf.assign(spike, True) # 변수를 업데이트하기 위해 tf.assign(<변수명>, <새로운 값>) 을 이용하여 변수에 새로운 값을 할당해 줍니다\n",
    "        updater.eval() # 변화를 보기 위해 실행해 줍니다\n",
    "    else:\n",
    "        tf.assign(spike, False).eval()\n",
    "    print(\"Spike\", spike.eval())\n",
    "sess.close() # 세션을 더 이상 사용하지 않게 되면 반드시 세션을 닫아줍니다"
   ]
  },
  {
   "cell_type": "code",
   "execution_count": null,
   "metadata": {},
   "outputs": [],
   "source": []
  }
 ],
 "metadata": {
  "kernelspec": {
   "display_name": "Python 3",
   "language": "python",
   "name": "python3"
  },
  "language_info": {
   "codemirror_mode": {
    "name": "ipython",
    "version": 3
   },
   "file_extension": ".py",
   "mimetype": "text/x-python",
   "name": "python",
   "nbconvert_exporter": "python",
   "pygments_lexer": "ipython3",
   "version": "3.5.2"
  }
 },
 "nbformat": 4,
 "nbformat_minor": 2
}
