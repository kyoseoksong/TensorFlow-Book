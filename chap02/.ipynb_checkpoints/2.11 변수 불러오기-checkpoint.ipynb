{
 "cells": [
  {
   "cell_type": "code",
   "execution_count": 1,
   "metadata": {},
   "outputs": [],
   "source": [
    "import tensorflow as tf"
   ]
  },
  {
   "cell_type": "code",
   "execution_count": 4,
   "metadata": {},
   "outputs": [
    {
     "name": "stdout",
     "output_type": "stream",
     "text": [
      "INFO:tensorflow:Restoring parameters from ./spikes.ckpt\n",
      "[False False  True False False  True False  True]\n"
     ]
    }
   ],
   "source": [
    "sess = tf.InteractiveSession()\n",
    "\n",
    "spikes = tf.Variable([False]*8, name='spikes') # 저장된 데이터와 동일한 크기와 이름을 가지는 변수를 생성합니다\n",
    "# spikes.initializer.run() # 직접적으로 불러올 것이기 때문에 이 변수를 초기화할 필요 없습니다\n",
    "saver = tf.train.Saver() # 저장된 데이터를 복원하기 위해 saver 연산자를 생성합니다\n",
    "\n",
    "try:\n",
    "    saver.restore(sess, \"./spikes.ckpt\") # spikes.ckpt 파일로부터 데이터를 복원합니다\n",
    "    print(spikes.eval()) # 불러온 데이터를 출력합니다\n",
    "except:\n",
    "    print('file not found')\n",
    "\n",
    "sess.close()"
   ]
  },
  {
   "cell_type": "code",
   "execution_count": null,
   "metadata": {},
   "outputs": [],
   "source": []
  }
 ],
 "metadata": {
  "kernelspec": {
   "display_name": "Python 3",
   "language": "python",
   "name": "python3"
  },
  "language_info": {
   "codemirror_mode": {
    "name": "ipython",
    "version": 3
   },
   "file_extension": ".py",
   "mimetype": "text/x-python",
   "name": "python",
   "nbconvert_exporter": "python",
   "pygments_lexer": "ipython3",
   "version": "3.5.2"
  }
 },
 "nbformat": 4,
 "nbformat_minor": 2
}
