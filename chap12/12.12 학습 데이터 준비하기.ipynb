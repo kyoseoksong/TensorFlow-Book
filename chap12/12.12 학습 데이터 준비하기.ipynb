{
 "cells": [
  {
   "cell_type": "code",
   "execution_count": null,
   "metadata": {},
   "outputs": [],
   "source": [
    "DATASET_DIR = os.path.join(os.path.expanduser('~'), 'res', \n",
    "                           'cloth_folding_rgb_vids') # 다운로드된 파일들의 디렉토리\n",
    "NUM_VIDS = 45 # 로드할 비디오의 개수\n",
    "\n",
    "def get_img_pair(video_id): # 비디오에서 시작 이미지와 마지막 이미지를 얻습니다\n",
    "    img_files = sorted(glob.glob(os.path.join(DATASET_DIR, video_id,\n",
    "                                              '*.png')))\n",
    "    start_img = img_files[0]\n",
    "    end_img = img_files[-1]\n",
    "    pair = []\n",
    "    for image_file in [start_img, end_img]:\n",
    "        img_original = imread(image_file)\n",
    "        img_resized = imresize(img_original, (224, 224))\n",
    "        pair.append(img_resized)\n",
    "    return tuple(pair)\n",
    "\n",
    "start_imgs = []\n",
    "end_imgs= []\n",
    "for vid_id in range(1, NUM_VIDS + 1):\n",
    "    start_img, end_img = get_img_pair(str(vid_id))\n",
    "    start_imgs.append(start_img)\n",
    "    end_imgs.append(end_img)\n",
    "\n",
    "print('Images of starting state {}'.format(np.shape(start_imgs)))\n",
    "print('Images of ending state {}'.format(np.shape(end_imgs)))"
   ]
  }
 ],
 "metadata": {
  "kernelspec": {
   "display_name": "Python 3",
   "language": "python",
   "name": "python3"
  },
  "language_info": {
   "codemirror_mode": {
    "name": "ipython",
    "version": 3
   },
   "file_extension": ".py",
   "mimetype": "text/x-python",
   "name": "python",
   "nbconvert_exporter": "python",
   "pygments_lexer": "ipython3",
   "version": "3.5.2"
  }
 },
 "nbformat": 4,
 "nbformat_minor": 2
}
