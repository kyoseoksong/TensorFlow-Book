{
 "cells": [
  {
   "cell_type": "code",
   "execution_count": null,
   "metadata": {},
   "outputs": [],
   "source": [
    "train_y1 = np.expand_dims(np.zeros(np.shape(train_start_imgs)[0]), axis=1)\n",
    "train_y2 = np.expand_dims(np.ones(np.shape(train_end_imgs)[0]), axis=1)\n",
    "\n",
    "for epoch in range(100):\n",
    "    for i in range(np.shape(train_start_imgs)[0]):\n",
    "        _, cost_val = sess.run([train_op, loss],\n",
    "                               feed_dict={x1: train_start_imgs[i:i+1,:],\n",
    "                                          x2: train_end_imgs[i:i+1,:],\n",
    "                                          dropout_keep_prob: 0.5})\n",
    "    print('{}. {}'.format(epoch, cost_val))\n",
    "    s1_val, s2_val = sess.run([s1, s2], feed_dict={x1: test_start_imgs,\n",
    "                                                   x2: test_end_imgs,\n",
    "                                                   dropout_keep_prob: 1})\n",
    "    print('Accuracy: {}%'.format(100 * np.mean(s1_val < s2_val)))"
   ]
  }
 ],
 "metadata": {
  "kernelspec": {
   "display_name": "Python 3",
   "language": "python",
   "name": "python3"
  },
  "language_info": {
   "codemirror_mode": {
    "name": "ipython",
    "version": 3
   },
   "file_extension": ".py",
   "mimetype": "text/x-python",
   "name": "python",
   "nbconvert_exporter": "python",
   "pygments_lexer": "ipython3",
   "version": "3.5.2"
  }
 },
 "nbformat": 4,
 "nbformat_minor": 2
}
