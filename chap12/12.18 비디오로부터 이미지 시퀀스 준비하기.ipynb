{
 "cells": [
  {
   "cell_type": "code",
   "execution_count": null,
   "metadata": {},
   "outputs": [],
   "source": [
    "def get_img_seq(video_id):\n",
    "    img_files = sorted(glob.glob(os.path.join(DATASET_DIR, video_id,\n",
    "                                              '*.png')))\n",
    "    imgs = []\n",
    "    for image_file in img_files:\n",
    "        img_original = imread(image_file)\n",
    "        img_resized = imresize(img_original, (224, 224))\n",
    "        imgs.append(img_resized)\n",
    "    return imgs\n",
    "\n",
    "imgs = get_img_seq('1')"
   ]
  }
 ],
 "metadata": {
  "kernelspec": {
   "display_name": "Python 3",
   "language": "python",
   "name": "python3"
  },
  "language_info": {
   "codemirror_mode": {
    "name": "ipython",
    "version": 3
   },
   "file_extension": ".py",
   "mimetype": "text/x-python",
   "name": "python",
   "nbconvert_exporter": "python",
   "pygments_lexer": "ipython3",
   "version": "3.5.2"
  }
 },
 "nbformat": 4,
 "nbformat_minor": 2
}
