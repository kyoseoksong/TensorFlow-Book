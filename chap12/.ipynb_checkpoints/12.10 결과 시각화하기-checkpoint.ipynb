{
 "cells": [
  {
   "cell_type": "code",
   "execution_count": null,
   "metadata": {},
   "outputs": [],
   "source": [
    "def visualize_results(data_test):\n",
    "    plt.figure()\n",
    "    scores_test = sess.run(s1, feed_dict={x1:data_test, dropout_keep_prob:1}) # 모든 포인트들의 유틸리티를 계산합니다\n",
    "    scores_img = np.reshape(scores_test, [grid_size, grid_size]) # 유틸리티를 행렬로 변환해줌으로써 Matplotlib을 이용하여 이미지를 시각화하도록 합니다\n",
    "    plt.imshow(scores_img, origin='lower')\n",
    "    plt.colorbar()\n",
    "    \n",
    "visualize_results(data_test)"
   ]
  }
 ],
 "metadata": {
  "kernelspec": {
   "display_name": "Python 3",
   "language": "python",
   "name": "python3"
  },
  "language_info": {
   "codemirror_mode": {
    "name": "ipython",
    "version": 3
   },
   "file_extension": ".py",
   "mimetype": "text/x-python",
   "name": "python",
   "nbconvert_exporter": "python",
   "pygments_lexer": "ipython3",
   "version": "3.5.2"
  }
 },
 "nbformat": 4,
 "nbformat_minor": 2
}
