{
 "cells": [
  {
   "cell_type": "code",
   "execution_count": null,
   "metadata": {},
   "outputs": [],
   "source": [
    "start_imgs_embedded = sess.run(vgg.fc1, feed_dict={vgg.imgs: start_imgs})\n",
    "end_imgs_embedded = sess.run(vgg.fc1, feed_dict={vgg.imgs: end_imgs})\n",
    "\n",
    "idxs = np.random.choice(NUM_VIDS, NUM_VIDS, replace=False)\n",
    "train_idxs = idxs[0:int(NUM_VIDS * 0.75)]\n",
    "test_idxs = idxs[int(NUM_VIDS * 0.75):]\n",
    "\n",
    "train_start_imgs = start_imgs_embedded[train_idxs]\n",
    "train_end_imgs = end_imgs_embedded[train_idxs]\n",
    "test_start_imgs = start_imgs_embedded[test_idxs]\n",
    "test_end_imgs = end_imgs_embedded[test_idxs]\n",
    "\n",
    "print('Train start imgs {}'.format(np.shape(train_start_imgs)))\n",
    "print('Train end imgs {}'.format(np.shape(train_end_imgs)))\n",
    "print('Test start imgs {}'.format(np.shape(test_start_imgs)))\n",
    "print('Test end imgs {}'.format(np.shape(test_end_imgs)))"
   ]
  }
 ],
 "metadata": {
  "kernelspec": {
   "display_name": "Python 3",
   "language": "python",
   "name": "python3"
  },
  "language_info": {
   "codemirror_mode": {
    "name": "ipython",
    "version": 3
   },
   "file_extension": ".py",
   "mimetype": "text/x-python",
   "name": "python",
   "nbconvert_exporter": "python",
   "pygments_lexer": "ipython3",
   "version": "3.5.2"
  }
 },
 "nbformat": 4,
 "nbformat_minor": 2
}
