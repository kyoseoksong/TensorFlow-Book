{
 "cells": [
  {
   "cell_type": "code",
   "execution_count": 1,
   "metadata": {},
   "outputs": [],
   "source": [
    "def train(self, data, batch_size=10):\n",
    "    with tf.Session() as sess:\n",
    "        sess.run(tf.global_variables_initializer())\n",
    "        for i in range(self.epoch):\n",
    "            for j in range(500): # 배치만큼 반복하게 됩니다\n",
    "                batch_data = get_batch(data, self.batch_size) # 랜덤하게 선택된 배치에 대해 최적화기를 실행합니다\n",
    "                l, _ = sess.run([self.loss, self.train_op],feed_dict={self.x: batch_data})\n",
    "            if i % 10 == 0:\n",
    "                print('epoch {0}: loss = {1}'.format(i, l))\n",
    "                self.saver.save(sess, './model.ckpt')\n",
    "        self.saver.save(sess, './model.ckpt')"
   ]
  },
  {
   "cell_type": "code",
   "execution_count": null,
   "metadata": {},
   "outputs": [],
   "source": []
  }
 ],
 "metadata": {
  "kernelspec": {
   "display_name": "Python 3",
   "language": "python",
   "name": "python3"
  },
  "language_info": {
   "codemirror_mode": {
    "name": "ipython",
    "version": 3
   },
   "file_extension": ".py",
   "mimetype": "text/x-python",
   "name": "python",
   "nbconvert_exporter": "python",
   "pygments_lexer": "ipython3",
   "version": "3.5.2"
  }
 },
 "nbformat": 4,
 "nbformat_minor": 2
}
