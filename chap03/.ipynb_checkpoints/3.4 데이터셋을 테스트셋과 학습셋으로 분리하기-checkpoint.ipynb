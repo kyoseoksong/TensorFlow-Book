{
 "cells": [
  {
   "cell_type": "code",
   "execution_count": 1,
   "metadata": {},
   "outputs": [],
   "source": [
    "def split_dataset(x_dataset, y_dataset, ratio): # 입력 데이터셋, 출력 데이터셋, 분리 비율을 인자로 받게 됩니다\n",
    "    arr = np.arange(x_dataset.size) # 리스트의 값들을 섞어 줍니다\n",
    "    np.random.shuffle(arr)\n",
    "    num_train = int(ratio * x_dataset.size) # 학습 데이터의 개수를 계산합니다\n",
    "    x_train = x_dataset[arr[0:num_train]] # 섞어준 리스트를 이용하여 x_dataset 을 분리합니다\n",
    "    x_test = x_dataset[arr[num_train:x_dataset.size]]\n",
    "    y_train = y_dataset[arr[0:num_train]] # 섞어준 리스트를 이용하여 y_dataset 을 분리합니다\n",
    "    y_test = y_dataset[arr[num_train:x_dataset.size]]\n",
    "    return x_train, x_test, y_train, y_test # 분리된 x 데이터셋과 y 데이터셋을 반환합니다"
   ]
  },
  {
   "cell_type": "code",
   "execution_count": null,
   "metadata": {},
   "outputs": [],
   "source": []
  }
 ],
 "metadata": {
  "kernelspec": {
   "display_name": "Python 3",
   "language": "python",
   "name": "python3"
  },
  "language_info": {
   "codemirror_mode": {
    "name": "ipython",
    "version": 3
   },
   "file_extension": ".py",
   "mimetype": "text/x-python",
   "name": "python",
   "nbconvert_exporter": "python",
   "pygments_lexer": "ipython3",
   "version": "3.5.2"
  }
 },
 "nbformat": 4,
 "nbformat_minor": 2
}
