{
 "cells": [
  {
   "cell_type": "code",
   "execution_count": 1,
   "metadata": {},
   "outputs": [],
   "source": [
    "def get_emission(self, obs_idx):\n",
    "    slice_location = [0, obs_idx] # 방출 행렬 내에서 슬라이스해줄 위치\n",
    "    num_rows = tf.shape(self.emission)[0]\n",
    "    slice_shape = [num_rows, 1] # 슬라이스의 형태)\n",
    "    return tf.slice(self.emission, slice_location, slice_shape) # 슬라이스 연산을 수행합니다"
   ]
  },
  {
   "cell_type": "code",
   "execution_count": null,
   "metadata": {},
   "outputs": [],
   "source": []
  }
 ],
 "metadata": {
  "kernelspec": {
   "display_name": "Python 3",
   "language": "python",
   "name": "python3"
  },
  "language_info": {
   "codemirror_mode": {
    "name": "ipython",
    "version": 3
   },
   "file_extension": ".py",
   "mimetype": "text/x-python",
   "name": "python",
   "nbconvert_exporter": "python",
   "pygments_lexer": "ipython3",
   "version": "3.5.2"
  }
 },
 "nbformat": 4,
 "nbformat_minor": 2
}
