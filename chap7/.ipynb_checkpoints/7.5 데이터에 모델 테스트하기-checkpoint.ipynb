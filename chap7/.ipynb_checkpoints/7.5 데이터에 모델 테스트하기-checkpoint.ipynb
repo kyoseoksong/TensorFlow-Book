{
 "cells": [
  {
   "cell_type": "code",
   "execution_count": 1,
   "metadata": {},
   "outputs": [],
   "source": [
    "def test(self, data):\n",
    "    with tf.Session() as sess:\n",
    "        self.saver.restore(sess, './model.ckpt') # 학습된 파라미터를 불러옵니다\n",
    "        hidden, reconstructed = sess.run([self.encoded, self.decoded],feed_dict={self.x: data}) # 입력을 복원해 줍니다\n",
    "    print('input', data)\n",
    "    print('compressed', hidden)\n",
    "    print('reconstructed', reconstructed)\n",
    "    return reconstructed"
   ]
  },
  {
   "cell_type": "code",
   "execution_count": null,
   "metadata": {},
   "outputs": [],
   "source": []
  }
 ],
 "metadata": {
  "kernelspec": {
   "display_name": "Python 3",
   "language": "python",
   "name": "python3"
  },
  "language_info": {
   "codemirror_mode": {
    "name": "ipython",
    "version": 3
   },
   "file_extension": ".py",
   "mimetype": "text/x-python",
   "name": "python",
   "nbconvert_exporter": "python",
   "pygments_lexer": "ipython3",
   "version": "3.5.2"
  }
 },
 "nbformat": 4,
 "nbformat_minor": 2
}
