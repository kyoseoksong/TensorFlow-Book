{
 "cells": [
  {
   "cell_type": "code",
   "execution_count": 1,
   "metadata": {},
   "outputs": [],
   "source": [
    "import numpy as np"
   ]
  },
  {
   "cell_type": "code",
   "execution_count": null,
   "metadata": {},
   "outputs": [],
   "source": [
    "names = unpickle('./cifar-10-batches-py/batches.meta')['label_names']\n",
    "data, labels = [], []\n",
    "for i in range(1, 6): # 6개의 파일에 대해 반복합니다\n",
    "    filename = './cifar-10-batches-py/data_batch_' + str(i)\n",
    "    batch_data = unpickle(filename) # 파일을 로드하여 파이썬 사전을 획득합니다\n",
    "    if len(data) > 0:\n",
    "        data = np.vstack((data, batch_data['data'])) # 데이터 샘플의 행은 각각의 샘플을 표현하기 때문에 수직으로 쌓게 됩니다\n",
    "        labels = np.hstack((labels, batch_data['labels'])) # 레이블은 1차원이기 때문에 수평으로 쌓게 됩니다\n",
    "    else:\n",
    "        data = batch_data['data']\n",
    "        labels = batch_data['labels']"
   ]
  }
 ],
 "metadata": {
  "kernelspec": {
   "display_name": "Python 3",
   "language": "python",
   "name": "python3"
  },
  "language_info": {
   "codemirror_mode": {
    "name": "ipython",
    "version": 3
   },
   "file_extension": ".py",
   "mimetype": "text/x-python",
   "name": "python",
   "nbconvert_exporter": "python",
   "pygments_lexer": "ipython3",
   "version": "3.5.2"
  }
 },
 "nbformat": 4,
 "nbformat_minor": 2
}
