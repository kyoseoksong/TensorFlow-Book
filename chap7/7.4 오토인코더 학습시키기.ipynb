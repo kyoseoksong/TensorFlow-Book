{
 "cells": [
  {
   "cell_type": "code",
   "execution_count": 1,
   "metadata": {},
   "outputs": [],
   "source": [
    "def train(self, data):\n",
    "    num_samples = len(data)\n",
    "    with tf.Session() as sess: # 텐서플로우 세션을 시작하고 모든 변수들을 초기화합니다\n",
    "        sess.run(tf.global_variables_initializer())\n",
    "        for i in range(self.epoch): # 생성자에 정의된 수만큼 반복합니다\n",
    "            for j in range(num_samples): # 한번에 하나씩 데이터 항목을 이용해 신경망을 학습시킵니다\n",
    "                l, _ = sess.run([self.loss, self.train_op], feed_dict={self.x: [data[j]]})\n",
    "            if i % 10 == 0:\n",
    "                print('epoch {0}: loss = {1}'.format(i, l)) # 10번마다 출력해 줍니다\n",
    "                self.saver.save(sess, './model.ckpt') # 학습된 파라미터를 파일로 저장합니다\n",
    "        self.saver.save(sess, './model.ckpt')"
   ]
  },
  {
   "cell_type": "code",
   "execution_count": null,
   "metadata": {},
   "outputs": [],
   "source": []
  }
 ],
 "metadata": {
  "kernelspec": {
   "display_name": "Python 3",
   "language": "python",
   "name": "python3"
  },
  "language_info": {
   "codemirror_mode": {
    "name": "ipython",
    "version": 3
   },
   "file_extension": ".py",
   "mimetype": "text/x-python",
   "name": "python",
   "nbconvert_exporter": "python",
   "pygments_lexer": "ipython3",
   "version": "3.5.2"
  }
 },
 "nbformat": 4,
 "nbformat_minor": 2
}
