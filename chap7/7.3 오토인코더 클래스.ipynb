{
 "cells": [
  {
   "cell_type": "code",
   "execution_count": 1,
   "metadata": {},
   "outputs": [],
   "source": [
    "import tensorflow as tf\n",
    "import numpy as np"
   ]
  },
  {
   "cell_type": "code",
   "execution_count": 2,
   "metadata": {},
   "outputs": [],
   "source": [
    "class Autoencoder:\n",
    "    def __init__(self, input_dim, hidden_dim, epoch=250, learning_rate=0.001):\n",
    "        self.epoch = epoch # 학습 횟수\n",
    "        self.learning_rate = learning_rate # 최적화기의 하이퍼파라미터\n",
    "        \n",
    "        x = tf.placeholder(dtype=tf.float32, shape=[None, input_dim]) # 입력 레이어 데이터셋 정의\n",
    "        \n",
    "        with tf.name_scope('encode'): # 이름 범위 아래에서 가중치와 편향을 정의함으로써 디코더의 가중치와 편향으로부터 구분할 수 있습니다\n",
    "            weights = tf.Variable(tf.random_normal([input_dim, hidden_dim], dtype=tf.float32), name='weights')\n",
    "            biases = tf.Variable(tf.zeros([hidden_dim]), name='biases')\n",
    "            encoded = tf.nn.tanh(tf.matmul(x, weights) + biases)\n",
    "        with tf.name_scope('decode'): # 디코더의 가중치와 편향은 이 이름 범위 하에서 정의됩니다\n",
    "            weights = tf.Variable(tf.random_normal([hidden_dim, input_dim], dtype=tf.float32), name='weights')\n",
    "            biases = tf.Variable(tf.zeros([input_dim]), name='biases')\n",
    "            decoded = tf.matmul(encoded, weights) + biases\n",
    "            \n",
    "        self.x = x # 메소드 변수들입니다\n",
    "        self.encoded = encoded\n",
    "        self.decoded = decoded\n",
    "        \n",
    "        self.loss = tf.sqrt(tf.reduce_mean(tf.square(tf.subtract(self.x, self.decoded)))) # 재현 비용을 정의합니다\n",
    "        self.train_op = tf.train.RMSPropOptimizer(self.learning_rate).minimize(self.loss) # 최적화기를 선택합니다\n",
    "        self.saver = tf.train.Saver() # 학습을 진행하면서 모델 파라미터들을 저장하기 위해 saver를 설정합니다"
   ]
  },
  {
   "cell_type": "code",
   "execution_count": null,
   "metadata": {},
   "outputs": [],
   "source": []
  }
 ],
 "metadata": {
  "kernelspec": {
   "display_name": "Python 3",
   "language": "python",
   "name": "python3"
  },
  "language_info": {
   "codemirror_mode": {
    "name": "ipython",
    "version": 3
   },
   "file_extension": ".py",
   "mimetype": "text/x-python",
   "name": "python",
   "nbconvert_exporter": "python",
   "pygments_lexer": "ipython3",
   "version": "3.5.2"
  }
 },
 "nbformat": 4,
 "nbformat_minor": 2
}
