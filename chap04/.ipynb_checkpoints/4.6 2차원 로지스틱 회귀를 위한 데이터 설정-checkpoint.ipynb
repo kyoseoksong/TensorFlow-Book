{
 "cells": [
  {
   "cell_type": "code",
   "execution_count": 2,
   "metadata": {},
   "outputs": [],
   "source": [
    "import tensorflow as tf # 관련 라이브러리들을 불러옵니다\n",
    "import numpy as np\n",
    "import matplotlib.pyplot as plt"
   ]
  },
  {
   "cell_type": "code",
   "execution_count": 3,
   "metadata": {},
   "outputs": [],
   "source": [
    "learning_rate = 0.001 # 하이퍼파라미터를 설정합니다\n",
    "training_epochs = 1000\n",
    "\n",
    "def sigmoid(x): # 도우미 시그모이드 함수를 정의합니다\n",
    "    return 1. / (1. + np.exp(-x))"
   ]
  },
  {
   "cell_type": "code",
   "execution_count": 4,
   "metadata": {},
   "outputs": [],
   "source": [
    "x1_label1 = np.random.normal(3, 1, 1000) # 가짜 데이터를 초기화합니다\n",
    "x2_label1 = np.random.normal(2, 1, 1000)\n",
    "x1_label2 = np.random.normal(7, 1, 1000)\n",
    "x2_label2 = np.random.normal(6, 1, 1000)\n",
    "\n",
    "x1s = np.append(x1_label1, x1_label2)\n",
    "x2s = np.append(x2_label1, x2_label2)\n",
    "ys = np.asarray([0.] * len(x1_label1) + [1.] * len(x1_label2))"
   ]
  },
  {
   "cell_type": "code",
   "execution_count": null,
   "metadata": {},
   "outputs": [],
   "source": []
  }
 ],
 "metadata": {
  "kernelspec": {
   "display_name": "Python 3",
   "language": "python",
   "name": "python3"
  },
  "language_info": {
   "codemirror_mode": {
    "name": "ipython",
    "version": 3
   },
   "file_extension": ".py",
   "mimetype": "text/x-python",
   "name": "python",
   "nbconvert_exporter": "python",
   "pygments_lexer": "ipython3",
   "version": "3.5.2"
  }
 },
 "nbformat": 4,
 "nbformat_minor": 2
}
