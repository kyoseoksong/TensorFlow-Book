{
 "cells": [
  {
   "cell_type": "code",
   "execution_count": null,
   "metadata": {},
   "outputs": [],
   "source": [
    "with tf.Session() as sess: # 새로운 세션을 열고 모든 변수를 초기화합니다\n",
    "    tf.global_variables_initializer().run()\n",
    "    \n",
    "    for step in range(training_epochs * train_size // batch_size): # 데이터셋을 한번 돌 만큼 반복합니다\n",
    "        offset = (step * batch_size) % train_size # 현재의 배치 (batch) 에 따른 데이터셋 부분에 대해 수행합니다\n",
    "        batch_xs = xs[offset: (offset + batch_size), :]\n",
    "        batch_labels = labels[offset: (offset + batch_size)]\n",
    "        err, _ = sess.run([cost, train_op], feed_dict={X: batch_xs, Y: batch_labels}) # 이 배치에 대해 최적화기를 실행합니다\n",
    "        if step % 100 == 0: # 결과를 출력해 줍니다\n",
    "            print(step, err)\n",
    "            \n",
    "    W_val = sess.run(W) # 최종 학습 파라미터를 출력합니다\n",
    "    print('w', W_val)\n",
    "    b_val = sess.run(b)\n",
    "    print('b', b_val)\n",
    "    print(\"accuracy\", accuracy.eval(feed_dict={X: test_xs, Y: test_labels})) # 성공율을 출력합니다"
   ]
  }
 ],
 "metadata": {
  "kernelspec": {
   "display_name": "Python 3",
   "language": "python",
   "name": "python3"
  },
  "language_info": {
   "codemirror_mode": {
    "name": "ipython",
    "version": 3
   },
   "file_extension": ".py",
   "mimetype": "text/x-python",
   "name": "python",
   "nbconvert_exporter": "python",
   "pygments_lexer": "ipython3",
   "version": "3.5.2"
  }
 },
 "nbformat": 4,
 "nbformat_minor": 2
}
