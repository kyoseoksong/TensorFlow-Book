{
 "cells": [
  {
   "cell_type": "code",
   "execution_count": 1,
   "metadata": {},
   "outputs": [],
   "source": [
    "import tensorflow as tf # 핵심 학습 알고리즘을 위해 텐서플로우를 불러옵니다\n",
    "import numpy as np # 데이터 처리를 위해 NumPy를 불러옵니다\n",
    "import matplotlib.pyplot as plt # 시각화를 위해 matplotlib를 불러옵니다"
   ]
  },
  {
   "cell_type": "code",
   "execution_count": 2,
   "metadata": {},
   "outputs": [
    {
     "data": {
      "image/png": "[encoded data removed]",
      "text/plain": [
       "<Figure size 432x288 with 1 Axes>"
      ]
     },
     "metadata": {},
     "output_type": "display_data"
    }
   ],
   "source": [
    "x_label0 = np.random.normal(5, 1, 10) # 가짜 데이터를 초기화합니다. 각각의 레이블에 대해 10개의 인스턴스를 가집니다\n",
    "x_label1 = np.random.normal(2, 1, 10)\n",
    "xs = np.append(x_label0, x_label1)\n",
    "labels = [0.] * len(x_label0) + [1.] * len(x_label1) # 레이블을 초기화합니다\n",
    "\n",
    "plt.scatter(xs, labels) # 데이터를 그려줍니다\n",
    "\n",
    "learning_rate = 0.001 # 하이퍼파라미터를 선언합니다\n",
    "training_epochs = 1000\n",
    "\n",
    "X = tf.placeholder(\"float\")\t # 입력/출력 쌍에 대해 플레이스홀더 노드를 설정합니다\n",
    "Y = tf.placeholder(\"float\")\n",
    "\n",
    "def model(X, w): # y = w1 * x + w0 의 선형 모델을 정의합니다\n",
    "    return tf.add(tf.multiply(w[1], tf.pow(X, 1)), tf.multiply(w[0], tf.pow(X, 0)))\n",
    "\n",
    "w = tf.Variable([0., 0.], name=\"parameters\") # 파라미터 변수를 설정합니다\n",
    "y_model = model(X, w) # 여러번 참조하게 될 도우미 변수를 정의합니다\n",
    "cost = tf.reduce_sum(tf.square(Y-y_model)) # 비용 함수를 정의합니다\n",
    "\n",
    "train_op = tf.train.GradientDescentOptimizer(learning_rate).minimize(cost) # 파라미터를 학습하는 규칙을 정의합니다"
   ]
  },
  {
   "cell_type": "code",
   "execution_count": null,
   "metadata": {},
   "outputs": [],
   "source": []
  }
 ],
 "metadata": {
  "kernelspec": {
   "display_name": "Python 3",
   "language": "python",
   "name": "python3"
  },
  "language_info": {
   "codemirror_mode": {
    "name": "ipython",
    "version": 3
   },
   "file_extension": ".py",
   "mimetype": "text/x-python",
   "name": "python",
   "nbconvert_exporter": "python",
   "pygments_lexer": "ipython3",
   "version": "3.5.2"
  }
 },
 "nbformat": 4,
 "nbformat_minor": 2
}
