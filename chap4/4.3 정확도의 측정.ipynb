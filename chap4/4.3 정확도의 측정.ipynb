{
 "cells": [
  {
   "cell_type": "code",
   "execution_count": null,
   "metadata": {},
   "outputs": [],
   "source": [
    "correct_prediction = tf.equal(Y, tf.to_float(tf.greater(y_model, 0.5))) # 모델의 응답이 0.5보다 크면 양성 레이블이, 0.5보다 작으면 음성 레이블이 됩니다\n",
    "accuracy = tf.reduce_mean(tf.to_float(correct_prediction)) # 성공율을 계산합니다\n",
    "\n",
    "print('accuracy', sess.run(accuracy, feed_dict={X: xs, Y: labels})) # 주어진 입력으로부터 정확도를 출력합니다"
   ]
  }
 ],
 "metadata": {
  "kernelspec": {
   "display_name": "Python 3",
   "language": "python",
   "name": "python3"
  },
  "language_info": {
   "codemirror_mode": {
    "name": "ipython",
    "version": 3
   },
   "file_extension": ".py",
   "mimetype": "text/x-python",
   "name": "python",
   "nbconvert_exporter": "python",
   "pygments_lexer": "ipython3",
   "version": "3.5.2"
  }
 },
 "nbformat": 4,
 "nbformat_minor": 2
}
